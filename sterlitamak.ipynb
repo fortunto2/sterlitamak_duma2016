{
 "cells": [
  {
   "cell_type": "code",
   "execution_count": 1,
   "metadata": {
    "collapsed": true
   },
   "outputs": [],
   "source": [
    "# -*- coding: utf-8 -*-\n",
    "from __future__ import unicode_literals\n",
    "\n",
    "import pandas as pd\n",
    "import numpy as np\n",
    "import matplotlib.pyplot as plt\n",
    "import scipy.stats as sts\n",
    "%matplotlib inline"
   ]
  },
  {
   "cell_type": "markdown",
   "metadata": {},
   "source": [
    "## Данные\n",
    "загружаем данные по стерлитамаку"
   ]
  },
  {
   "cell_type": "code",
   "execution_count": 2,
   "metadata": {
    "collapsed": false
   },
   "outputs": [],
   "source": [
    "data = pd.read_csv('str_mini.csv', encoding='utf-8')"
   ]
  },
  {
   "cell_type": "code",
   "execution_count": 3,
   "metadata": {
    "collapsed": false
   },
   "outputs": [
    {
     "data": {
      "text/html": [
       "<div>\n",
       "<table border=\"1\" class=\"dataframe\">\n",
       "  <thead>\n",
       "    <tr style=\"text-align: right;\">\n",
       "      <th></th>\n",
       "      <th>УИК №642</th>\n",
       "      <th>УИК №643</th>\n",
       "      <th>УИК №644</th>\n",
       "      <th>УИК №645</th>\n",
       "      <th>УИК №646</th>\n",
       "      <th>УИК №647</th>\n",
       "      <th>УИК №648</th>\n",
       "      <th>УИК №649</th>\n",
       "      <th>УИК №650</th>\n",
       "      <th>УИК №651</th>\n",
       "      <th>...</th>\n",
       "      <th>УИК №748</th>\n",
       "      <th>УИК №749</th>\n",
       "      <th>УИК №750</th>\n",
       "      <th>УИК №751</th>\n",
       "      <th>УИК №752</th>\n",
       "      <th>УИК №753</th>\n",
       "      <th>УИК №3460</th>\n",
       "      <th>УИК №3461</th>\n",
       "      <th>УИК №3495</th>\n",
       "      <th>УИК №3496</th>\n",
       "    </tr>\n",
       "  </thead>\n",
       "  <tbody>\n",
       "    <tr>\n",
       "      <th>0</th>\n",
       "      <td>0</td>\n",
       "      <td>4</td>\n",
       "      <td>4</td>\n",
       "      <td>2</td>\n",
       "      <td>4</td>\n",
       "      <td>0</td>\n",
       "      <td>0</td>\n",
       "      <td>3</td>\n",
       "      <td>20</td>\n",
       "      <td>3</td>\n",
       "      <td>...</td>\n",
       "      <td>1</td>\n",
       "      <td>0</td>\n",
       "      <td>0</td>\n",
       "      <td>0</td>\n",
       "      <td>0</td>\n",
       "      <td>0</td>\n",
       "      <td>0</td>\n",
       "      <td>1</td>\n",
       "      <td>2</td>\n",
       "      <td>0</td>\n",
       "    </tr>\n",
       "    <tr>\n",
       "      <th>1</th>\n",
       "      <td>2</td>\n",
       "      <td>9</td>\n",
       "      <td>3</td>\n",
       "      <td>4</td>\n",
       "      <td>6</td>\n",
       "      <td>0</td>\n",
       "      <td>2</td>\n",
       "      <td>5</td>\n",
       "      <td>36</td>\n",
       "      <td>2</td>\n",
       "      <td>...</td>\n",
       "      <td>2</td>\n",
       "      <td>0</td>\n",
       "      <td>0</td>\n",
       "      <td>6</td>\n",
       "      <td>0</td>\n",
       "      <td>4</td>\n",
       "      <td>6</td>\n",
       "      <td>0</td>\n",
       "      <td>4</td>\n",
       "      <td>0</td>\n",
       "    </tr>\n",
       "    <tr>\n",
       "      <th>2</th>\n",
       "      <td>2</td>\n",
       "      <td>3</td>\n",
       "      <td>5</td>\n",
       "      <td>5</td>\n",
       "      <td>2</td>\n",
       "      <td>0</td>\n",
       "      <td>6</td>\n",
       "      <td>6</td>\n",
       "      <td>10</td>\n",
       "      <td>3</td>\n",
       "      <td>...</td>\n",
       "      <td>3</td>\n",
       "      <td>15</td>\n",
       "      <td>0</td>\n",
       "      <td>3</td>\n",
       "      <td>0</td>\n",
       "      <td>0</td>\n",
       "      <td>2</td>\n",
       "      <td>2</td>\n",
       "      <td>0</td>\n",
       "      <td>0</td>\n",
       "    </tr>\n",
       "    <tr>\n",
       "      <th>3</th>\n",
       "      <td>1101</td>\n",
       "      <td>788</td>\n",
       "      <td>994</td>\n",
       "      <td>998</td>\n",
       "      <td>881</td>\n",
       "      <td>434</td>\n",
       "      <td>789</td>\n",
       "      <td>563</td>\n",
       "      <td>801</td>\n",
       "      <td>480</td>\n",
       "      <td>...</td>\n",
       "      <td>566</td>\n",
       "      <td>828</td>\n",
       "      <td>5</td>\n",
       "      <td>458</td>\n",
       "      <td>13</td>\n",
       "      <td>68</td>\n",
       "      <td>554</td>\n",
       "      <td>392</td>\n",
       "      <td>50</td>\n",
       "      <td>69</td>\n",
       "    </tr>\n",
       "    <tr>\n",
       "      <th>4</th>\n",
       "      <td>10</td>\n",
       "      <td>2</td>\n",
       "      <td>4</td>\n",
       "      <td>7</td>\n",
       "      <td>3</td>\n",
       "      <td>0</td>\n",
       "      <td>3</td>\n",
       "      <td>0</td>\n",
       "      <td>27</td>\n",
       "      <td>0</td>\n",
       "      <td>...</td>\n",
       "      <td>5</td>\n",
       "      <td>10</td>\n",
       "      <td>0</td>\n",
       "      <td>1</td>\n",
       "      <td>0</td>\n",
       "      <td>1</td>\n",
       "      <td>4</td>\n",
       "      <td>0</td>\n",
       "      <td>3</td>\n",
       "      <td>0</td>\n",
       "    </tr>\n",
       "  </tbody>\n",
       "</table>\n",
       "<p>5 rows × 116 columns</p>\n",
       "</div>"
      ],
      "text/plain": [
       "   УИК №642  УИК №643  УИК №644  УИК №645  УИК №646  УИК №647  УИК №648  \\\n",
       "0         0         4         4         2         4         0         0   \n",
       "1         2         9         3         4         6         0         2   \n",
       "2         2         3         5         5         2         0         6   \n",
       "3      1101       788       994       998       881       434       789   \n",
       "4        10         2         4         7         3         0         3   \n",
       "\n",
       "   УИК №649  УИК №650  УИК №651    ...      УИК №748  УИК №749  УИК №750  \\\n",
       "0         3        20         3    ...             1         0         0   \n",
       "1         5        36         2    ...             2         0         0   \n",
       "2         6        10         3    ...             3        15         0   \n",
       "3       563       801       480    ...           566       828         5   \n",
       "4         0        27         0    ...             5        10         0   \n",
       "\n",
       "   УИК №751  УИК №752  УИК №753  УИК №3460  УИК №3461  УИК №3495  УИК №3496  \n",
       "0         0         0         0          0          1          2          0  \n",
       "1         6         0         4          6          0          4          0  \n",
       "2         3         0         0          2          2          0          0  \n",
       "3       458        13        68        554        392         50         69  \n",
       "4         1         0         1          4          0          3          0  \n",
       "\n",
       "[5 rows x 116 columns]"
      ]
     },
     "execution_count": 3,
     "metadata": {},
     "output_type": "execute_result"
    }
   ],
   "source": [
    "data.head()"
   ]
  },
  {
   "cell_type": "code",
   "execution_count": 4,
   "metadata": {
    "collapsed": false
   },
   "outputs": [
    {
     "data": {
      "text/plain": [
       "count     116.000000\n",
       "mean     1254.612069\n",
       "std       469.572160\n",
       "min         9.000000\n",
       "25%       987.750000\n",
       "50%      1303.500000\n",
       "75%      1602.750000\n",
       "max      2145.000000\n",
       "dtype: float64"
      ]
     },
     "execution_count": 4,
     "metadata": {},
     "output_type": "execute_result"
    }
   ],
   "source": [
    "data.sum().describe()"
   ]
  },
  {
   "cell_type": "code",
   "execution_count": 6,
   "metadata": {
    "collapsed": false
   },
   "outputs": [
    {
     "data": {
      "text/plain": [
       "<matplotlib.text.Text at 0x7fc74b029f50>"
      ]
     },
     "execution_count": 6,
     "metadata": {},
     "output_type": "execute_result"
    },
    {
     "data": {
      "image/png": "[encoded data removed]",
      "text/plain": [
       "<matplotlib.figure.Figure at 0x7fc74b0b3350>"
      ]
     },
     "metadata": {},
     "output_type": "display_data"
    }
   ],
   "source": [
    "golosa = data.sum().hist()\n",
    "golosa.set_title(u\"Kolichestvo Golosov po uchastkam\")"
   ]
  },
  {
   "cell_type": "markdown",
   "metadata": {},
   "source": [
    "Распределение голосов по участкам, Медиана: 1254 голоса на участке, в среднем 469 голоса на участок"
   ]
  },
  {
   "cell_type": "code",
   "execution_count": 5,
   "metadata": {
    "collapsed": false
   },
   "outputs": [],
   "source": [
    "# data = data[data>50]\n",
    "# data.head()"
   ]
  },
  {
   "cell_type": "code",
   "execution_count": 7,
   "metadata": {
    "collapsed": false
   },
   "outputs": [
    {
     "data": {
      "text/html": [
       "<div>\n",
       "<table border=\"1\" class=\"dataframe\">\n",
       "  <thead>\n",
       "    <tr style=\"text-align: right;\">\n",
       "      <th></th>\n",
       "      <th>УИК №642</th>\n",
       "      <th>УИК №643</th>\n",
       "      <th>УИК №644</th>\n",
       "      <th>УИК №645</th>\n",
       "      <th>УИК №646</th>\n",
       "      <th>УИК №647</th>\n",
       "      <th>УИК №648</th>\n",
       "      <th>УИК №649</th>\n",
       "      <th>УИК №650</th>\n",
       "      <th>УИК №651</th>\n",
       "      <th>...</th>\n",
       "      <th>УИК №748</th>\n",
       "      <th>УИК №749</th>\n",
       "      <th>УИК №750</th>\n",
       "      <th>УИК №751</th>\n",
       "      <th>УИК №752</th>\n",
       "      <th>УИК №753</th>\n",
       "      <th>УИК №3460</th>\n",
       "      <th>УИК №3461</th>\n",
       "      <th>УИК №3495</th>\n",
       "      <th>УИК №3496</th>\n",
       "    </tr>\n",
       "  </thead>\n",
       "  <tbody>\n",
       "    <tr>\n",
       "      <th>0</th>\n",
       "      <td>0.000000</td>\n",
       "      <td>0.280112</td>\n",
       "      <td>0.221484</td>\n",
       "      <td>0.110681</td>\n",
       "      <td>0.249844</td>\n",
       "      <td>0.000000</td>\n",
       "      <td>0.000000</td>\n",
       "      <td>0.292683</td>\n",
       "      <td>1.233046</td>\n",
       "      <td>0.344037</td>\n",
       "      <td>...</td>\n",
       "      <td>0.097276</td>\n",
       "      <td>0.000000</td>\n",
       "      <td>0.000000</td>\n",
       "      <td>0.000000</td>\n",
       "      <td>0.000000</td>\n",
       "      <td>0.000000</td>\n",
       "      <td>0.000000</td>\n",
       "      <td>0.142653</td>\n",
       "      <td>2.352941</td>\n",
       "      <td>0.000000</td>\n",
       "    </tr>\n",
       "    <tr>\n",
       "      <th>1</th>\n",
       "      <td>0.100050</td>\n",
       "      <td>0.630252</td>\n",
       "      <td>0.166113</td>\n",
       "      <td>0.221361</td>\n",
       "      <td>0.374766</td>\n",
       "      <td>0.000000</td>\n",
       "      <td>0.139665</td>\n",
       "      <td>0.487805</td>\n",
       "      <td>2.219482</td>\n",
       "      <td>0.229358</td>\n",
       "      <td>...</td>\n",
       "      <td>0.194553</td>\n",
       "      <td>0.000000</td>\n",
       "      <td>0.000000</td>\n",
       "      <td>1.081081</td>\n",
       "      <td>0.000000</td>\n",
       "      <td>3.636364</td>\n",
       "      <td>0.595238</td>\n",
       "      <td>0.000000</td>\n",
       "      <td>4.705882</td>\n",
       "      <td>0.000000</td>\n",
       "    </tr>\n",
       "    <tr>\n",
       "      <th>2</th>\n",
       "      <td>0.100050</td>\n",
       "      <td>0.210084</td>\n",
       "      <td>0.276855</td>\n",
       "      <td>0.276702</td>\n",
       "      <td>0.124922</td>\n",
       "      <td>0.000000</td>\n",
       "      <td>0.418994</td>\n",
       "      <td>0.585366</td>\n",
       "      <td>0.616523</td>\n",
       "      <td>0.344037</td>\n",
       "      <td>...</td>\n",
       "      <td>0.291829</td>\n",
       "      <td>1.016949</td>\n",
       "      <td>0.000000</td>\n",
       "      <td>0.540541</td>\n",
       "      <td>0.000000</td>\n",
       "      <td>0.000000</td>\n",
       "      <td>0.198413</td>\n",
       "      <td>0.285307</td>\n",
       "      <td>0.000000</td>\n",
       "      <td>0.000000</td>\n",
       "    </tr>\n",
       "    <tr>\n",
       "      <th>3</th>\n",
       "      <td>55.077539</td>\n",
       "      <td>55.182073</td>\n",
       "      <td>55.038760</td>\n",
       "      <td>55.229662</td>\n",
       "      <td>55.028107</td>\n",
       "      <td>58.255034</td>\n",
       "      <td>55.097765</td>\n",
       "      <td>54.926829</td>\n",
       "      <td>49.383477</td>\n",
       "      <td>55.045872</td>\n",
       "      <td>...</td>\n",
       "      <td>55.058366</td>\n",
       "      <td>56.135593</td>\n",
       "      <td>55.555556</td>\n",
       "      <td>82.522523</td>\n",
       "      <td>86.666667</td>\n",
       "      <td>61.818182</td>\n",
       "      <td>54.960317</td>\n",
       "      <td>55.920114</td>\n",
       "      <td>58.823529</td>\n",
       "      <td>56.557377</td>\n",
       "    </tr>\n",
       "    <tr>\n",
       "      <th>4</th>\n",
       "      <td>0.500250</td>\n",
       "      <td>0.140056</td>\n",
       "      <td>0.221484</td>\n",
       "      <td>0.387382</td>\n",
       "      <td>0.187383</td>\n",
       "      <td>0.000000</td>\n",
       "      <td>0.209497</td>\n",
       "      <td>0.000000</td>\n",
       "      <td>1.664612</td>\n",
       "      <td>0.000000</td>\n",
       "      <td>...</td>\n",
       "      <td>0.486381</td>\n",
       "      <td>0.677966</td>\n",
       "      <td>0.000000</td>\n",
       "      <td>0.180180</td>\n",
       "      <td>0.000000</td>\n",
       "      <td>0.909091</td>\n",
       "      <td>0.396825</td>\n",
       "      <td>0.000000</td>\n",
       "      <td>3.529412</td>\n",
       "      <td>0.000000</td>\n",
       "    </tr>\n",
       "  </tbody>\n",
       "</table>\n",
       "<p>5 rows × 116 columns</p>\n",
       "</div>"
      ],
      "text/plain": [
       "    УИК №642   УИК №643   УИК №644   УИК №645   УИК №646   УИК №647  \\\n",
       "0   0.000000   0.280112   0.221484   0.110681   0.249844   0.000000   \n",
       "1   0.100050   0.630252   0.166113   0.221361   0.374766   0.000000   \n",
       "2   0.100050   0.210084   0.276855   0.276702   0.124922   0.000000   \n",
       "3  55.077539  55.182073  55.038760  55.229662  55.028107  58.255034   \n",
       "4   0.500250   0.140056   0.221484   0.387382   0.187383   0.000000   \n",
       "\n",
       "    УИК №648   УИК №649   УИК №650   УИК №651    ...       УИК №748  \\\n",
       "0   0.000000   0.292683   1.233046   0.344037    ...       0.097276   \n",
       "1   0.139665   0.487805   2.219482   0.229358    ...       0.194553   \n",
       "2   0.418994   0.585366   0.616523   0.344037    ...       0.291829   \n",
       "3  55.097765  54.926829  49.383477  55.045872    ...      55.058366   \n",
       "4   0.209497   0.000000   1.664612   0.000000    ...       0.486381   \n",
       "\n",
       "    УИК №749   УИК №750   УИК №751   УИК №752   УИК №753  УИК №3460  \\\n",
       "0   0.000000   0.000000   0.000000   0.000000   0.000000   0.000000   \n",
       "1   0.000000   0.000000   1.081081   0.000000   3.636364   0.595238   \n",
       "2   1.016949   0.000000   0.540541   0.000000   0.000000   0.198413   \n",
       "3  56.135593  55.555556  82.522523  86.666667  61.818182  54.960317   \n",
       "4   0.677966   0.000000   0.180180   0.000000   0.909091   0.396825   \n",
       "\n",
       "   УИК №3461  УИК №3495  УИК №3496  \n",
       "0   0.142653   2.352941   0.000000  \n",
       "1   0.000000   4.705882   0.000000  \n",
       "2   0.285307   0.000000   0.000000  \n",
       "3  55.920114  58.823529  56.557377  \n",
       "4   0.000000   3.529412   0.000000  \n",
       "\n",
       "[5 rows x 116 columns]"
      ]
     },
     "execution_count": 7,
     "metadata": {},
     "output_type": "execute_result"
    }
   ],
   "source": [
    "data_percent = data.apply(lambda x: (x*100 / x.sum()))\n",
    "data_percent.head()"
   ]
  },
  {
   "cell_type": "code",
   "execution_count": 31,
   "metadata": {
    "collapsed": false
   },
   "outputs": [
    {
     "data": {
      "text/html": [
       "<div>\n",
       "<table border=\"1\" class=\"dataframe\">\n",
       "  <thead>\n",
       "    <tr style=\"text-align: right;\">\n",
       "      <th></th>\n",
       "      <th>3</th>\n",
       "    </tr>\n",
       "  </thead>\n",
       "  <tbody>\n",
       "    <tr>\n",
       "      <th>count</th>\n",
       "      <td>116.000000</td>\n",
       "    </tr>\n",
       "    <tr>\n",
       "      <th>mean</th>\n",
       "      <td>55.990864</td>\n",
       "    </tr>\n",
       "    <tr>\n",
       "      <th>std</th>\n",
       "      <td>4.629714</td>\n",
       "    </tr>\n",
       "    <tr>\n",
       "      <th>min</th>\n",
       "      <td>42.424242</td>\n",
       "    </tr>\n",
       "    <tr>\n",
       "      <th>25%</th>\n",
       "      <td>55.005783</td>\n",
       "    </tr>\n",
       "    <tr>\n",
       "      <th>50%</th>\n",
       "      <td>55.083815</td>\n",
       "    </tr>\n",
       "    <tr>\n",
       "      <th>75%</th>\n",
       "      <td>55.482457</td>\n",
       "    </tr>\n",
       "    <tr>\n",
       "      <th>max</th>\n",
       "      <td>86.666667</td>\n",
       "    </tr>\n",
       "  </tbody>\n",
       "</table>\n",
       "</div>"
      ],
      "text/plain": [
       "                3\n",
       "count  116.000000\n",
       "mean    55.990864\n",
       "std      4.629714\n",
       "min     42.424242\n",
       "25%     55.005783\n",
       "50%     55.083815\n",
       "75%     55.482457\n",
       "max     86.666667"
      ]
     },
     "execution_count": 31,
     "metadata": {},
     "output_type": "execute_result"
    }
   ],
   "source": [
    "edro = data_percent.transpose()[[3]]\n",
    "edro=edro.sort_values(by=[3], ascending=[True])\n",
    "edro.describe()"
   ]
  },
  {
   "cell_type": "code",
   "execution_count": 32,
   "metadata": {
    "collapsed": false
   },
   "outputs": [
    {
     "data": {
      "text/plain": [
       "<matplotlib.text.Text at 0x7fc746797090>"
      ]
     },
     "execution_count": 32,
     "metadata": {},
     "output_type": "execute_result"
    },
    {
     "data": {
      "image/png": "[encoded data removed]",
      "text/plain": [
       "<matplotlib.figure.Figure at 0x7fc74629f250>"
      ]
     },
     "metadata": {},
     "output_type": "display_data"
    }
   ],
   "source": [
    "edro.hist()\n",
    "plt.title('Histogram for EDRO')"
   ]
  },
  {
   "cell_type": "markdown",
   "metadata": {},
   "source": [
    "Гистограма показывает что на большинстве участков близкое значение в 56%"
   ]
  },
  {
   "cell_type": "code",
   "execution_count": 34,
   "metadata": {
    "collapsed": false
   },
   "outputs": [
    {
     "data": {
      "text/plain": [
       "<matplotlib.text.Text at 0x7fc746139d10>"
      ]
     },
     "execution_count": 34,
     "metadata": {},
     "output_type": "execute_result"
    },
    {
     "data": {
      "image/png": "[encoded data removed]",
      "text/plain": [
       "<matplotlib.figure.Figure at 0x7fc7461790d0>"
      ]
     },
     "metadata": {},
     "output_type": "display_data"
    }
   ],
   "source": [
    "edro.plot()\n",
    "plt.title('EDRO median 56%')"
   ]
  },
  {
   "cell_type": "markdown",
   "metadata": {},
   "source": [
    "Медиана в 56% почти на всех участках... причем настолько ровное распределение соотношения голосов за Единую России, вызывает удивление."
   ]
  },
  {
   "cell_type": "code",
   "execution_count": null,
   "metadata": {
    "collapsed": true
   },
   "outputs": [],
   "source": []
  }
 ],
 "metadata": {
  "kernelspec": {
   "display_name": "Python [Root]",
   "language": "python",
   "name": "Python [Root]"
  },
  "language_info": {
   "codemirror_mode": {
    "name": "ipython",
    "version": 2
   },
   "file_extension": ".py",
   "mimetype": "text/x-python",
   "name": "python",
   "nbconvert_exporter": "python",
   "pygments_lexer": "ipython2",
   "version": "2.7.12"
  }
 },
 "nbformat": 4,
 "nbformat_minor": 0
}
