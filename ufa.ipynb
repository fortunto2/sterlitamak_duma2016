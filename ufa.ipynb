{
 "cells": [
  {
   "cell_type": "code",
   "execution_count": 2,
   "metadata": {
    "collapsed": true
   },
   "outputs": [],
   "source": [
    "# -*- coding: utf-8 -*-\n",
    "from __future__ import unicode_literals\n",
    "\n",
    "import pandas as pd\n",
    "import numpy as np\n",
    "import matplotlib.pyplot as plt\n",
    "import scipy.stats as sts\n",
    "import seaborn as sns\n",
    "\n",
    "%matplotlib inline"
   ]
  },
  {
   "cell_type": "markdown",
   "metadata": {},
   "source": [
    "## Данные\n",
    "загружаем данные по стерлитамаку"
   ]
  },
  {
   "cell_type": "code",
   "execution_count": 3,
   "metadata": {
    "collapsed": false
   },
   "outputs": [],
   "source": [
    "data = pd.read_csv('ufa.csv', encoding='utf-8')\n",
    "data.rename(columns=lambda x: x[5:], inplace=True)"
   ]
  },
  {
   "cell_type": "code",
   "execution_count": 3,
   "metadata": {
    "collapsed": false
   },
   "outputs": [
    {
     "data": {
      "text/html": [
       "<div>\n",
       "<table border=\"1\" class=\"dataframe\">\n",
       "  <thead>\n",
       "    <tr style=\"text-align: right;\">\n",
       "      <th></th>\n",
       "      <th>642</th>\n",
       "      <th>643</th>\n",
       "      <th>644</th>\n",
       "      <th>645</th>\n",
       "      <th>646</th>\n",
       "      <th>647</th>\n",
       "      <th>648</th>\n",
       "      <th>649</th>\n",
       "      <th>650</th>\n",
       "      <th>651</th>\n",
       "      <th>...</th>\n",
       "      <th>748</th>\n",
       "      <th>749</th>\n",
       "      <th>750</th>\n",
       "      <th>751</th>\n",
       "      <th>752</th>\n",
       "      <th>753</th>\n",
       "      <th>3460</th>\n",
       "      <th>3461</th>\n",
       "      <th>3495</th>\n",
       "      <th>3496</th>\n",
       "    </tr>\n",
       "  </thead>\n",
       "  <tbody>\n",
       "    <tr>\n",
       "      <th>0</th>\n",
       "      <td>0</td>\n",
       "      <td>4</td>\n",
       "      <td>4</td>\n",
       "      <td>2</td>\n",
       "      <td>4</td>\n",
       "      <td>0</td>\n",
       "      <td>0</td>\n",
       "      <td>3</td>\n",
       "      <td>20</td>\n",
       "      <td>3</td>\n",
       "      <td>...</td>\n",
       "      <td>1</td>\n",
       "      <td>0</td>\n",
       "      <td>0</td>\n",
       "      <td>0</td>\n",
       "      <td>0</td>\n",
       "      <td>0</td>\n",
       "      <td>0</td>\n",
       "      <td>1</td>\n",
       "      <td>2</td>\n",
       "      <td>0</td>\n",
       "    </tr>\n",
       "    <tr>\n",
       "      <th>1</th>\n",
       "      <td>2</td>\n",
       "      <td>9</td>\n",
       "      <td>3</td>\n",
       "      <td>4</td>\n",
       "      <td>6</td>\n",
       "      <td>0</td>\n",
       "      <td>2</td>\n",
       "      <td>5</td>\n",
       "      <td>36</td>\n",
       "      <td>2</td>\n",
       "      <td>...</td>\n",
       "      <td>2</td>\n",
       "      <td>0</td>\n",
       "      <td>0</td>\n",
       "      <td>6</td>\n",
       "      <td>0</td>\n",
       "      <td>4</td>\n",
       "      <td>6</td>\n",
       "      <td>0</td>\n",
       "      <td>4</td>\n",
       "      <td>0</td>\n",
       "    </tr>\n",
       "    <tr>\n",
       "      <th>2</th>\n",
       "      <td>2</td>\n",
       "      <td>3</td>\n",
       "      <td>5</td>\n",
       "      <td>5</td>\n",
       "      <td>2</td>\n",
       "      <td>0</td>\n",
       "      <td>6</td>\n",
       "      <td>6</td>\n",
       "      <td>10</td>\n",
       "      <td>3</td>\n",
       "      <td>...</td>\n",
       "      <td>3</td>\n",
       "      <td>15</td>\n",
       "      <td>0</td>\n",
       "      <td>3</td>\n",
       "      <td>0</td>\n",
       "      <td>0</td>\n",
       "      <td>2</td>\n",
       "      <td>2</td>\n",
       "      <td>0</td>\n",
       "      <td>0</td>\n",
       "    </tr>\n",
       "    <tr>\n",
       "      <th>3</th>\n",
       "      <td>1101</td>\n",
       "      <td>788</td>\n",
       "      <td>994</td>\n",
       "      <td>998</td>\n",
       "      <td>881</td>\n",
       "      <td>434</td>\n",
       "      <td>789</td>\n",
       "      <td>563</td>\n",
       "      <td>801</td>\n",
       "      <td>480</td>\n",
       "      <td>...</td>\n",
       "      <td>566</td>\n",
       "      <td>828</td>\n",
       "      <td>5</td>\n",
       "      <td>458</td>\n",
       "      <td>13</td>\n",
       "      <td>68</td>\n",
       "      <td>554</td>\n",
       "      <td>392</td>\n",
       "      <td>50</td>\n",
       "      <td>69</td>\n",
       "    </tr>\n",
       "    <tr>\n",
       "      <th>4</th>\n",
       "      <td>10</td>\n",
       "      <td>2</td>\n",
       "      <td>4</td>\n",
       "      <td>7</td>\n",
       "      <td>3</td>\n",
       "      <td>0</td>\n",
       "      <td>3</td>\n",
       "      <td>0</td>\n",
       "      <td>27</td>\n",
       "      <td>0</td>\n",
       "      <td>...</td>\n",
       "      <td>5</td>\n",
       "      <td>10</td>\n",
       "      <td>0</td>\n",
       "      <td>1</td>\n",
       "      <td>0</td>\n",
       "      <td>1</td>\n",
       "      <td>4</td>\n",
       "      <td>0</td>\n",
       "      <td>3</td>\n",
       "      <td>0</td>\n",
       "    </tr>\n",
       "  </tbody>\n",
       "</table>\n",
       "<p>5 rows × 116 columns</p>\n",
       "</div>"
      ],
      "text/plain": [
       "    642  643  644  645  646  647  648  649  650  651  ...   748  749  750  \\\n",
       "0     0    4    4    2    4    0    0    3   20    3  ...     1    0    0   \n",
       "1     2    9    3    4    6    0    2    5   36    2  ...     2    0    0   \n",
       "2     2    3    5    5    2    0    6    6   10    3  ...     3   15    0   \n",
       "3  1101  788  994  998  881  434  789  563  801  480  ...   566  828    5   \n",
       "4    10    2    4    7    3    0    3    0   27    0  ...     5   10    0   \n",
       "\n",
       "   751  752  753  3460  3461  3495  3496  \n",
       "0    0    0    0     0     1     2     0  \n",
       "1    6    0    4     6     0     4     0  \n",
       "2    3    0    0     2     2     0     0  \n",
       "3  458   13   68   554   392    50    69  \n",
       "4    1    0    1     4     0     3     0  \n",
       "\n",
       "[5 rows x 116 columns]"
      ]
     },
     "execution_count": 3,
     "metadata": {},
     "output_type": "execute_result"
    }
   ],
   "source": [
    "data.head()"
   ]
  },
  {
   "cell_type": "code",
   "execution_count": 4,
   "metadata": {
    "collapsed": false
   },
   "outputs": [
    {
     "data": {
      "text/html": [
       "<div>\n",
       "<table border=\"1\" class=\"dataframe\">\n",
       "  <thead>\n",
       "    <tr style=\"text-align: right;\">\n",
       "      <th></th>\n",
       "      <th>0</th>\n",
       "    </tr>\n",
       "    <tr>\n",
       "      <th>index</th>\n",
       "      <th></th>\n",
       "    </tr>\n",
       "  </thead>\n",
       "  <tbody>\n",
       "    <tr>\n",
       "      <th>1</th>\n",
       "      <td>29095</td>\n",
       "    </tr>\n",
       "    <tr>\n",
       "      <th>2</th>\n",
       "      <td>32207</td>\n",
       "    </tr>\n",
       "    <tr>\n",
       "      <th>3</th>\n",
       "      <td>29500</td>\n",
       "    </tr>\n",
       "    <tr>\n",
       "      <th>4</th>\n",
       "      <td>30639</td>\n",
       "    </tr>\n",
       "    <tr>\n",
       "      <th>5</th>\n",
       "      <td>33071</td>\n",
       "    </tr>\n",
       "  </tbody>\n",
       "</table>\n",
       "</div>"
      ],
      "text/plain": [
       "           0\n",
       "index       \n",
       "1      29095\n",
       "2      32207\n",
       "3      29500\n",
       "4      30639\n",
       "5      33071"
      ]
     },
     "execution_count": 4,
     "metadata": {},
     "output_type": "execute_result"
    }
   ],
   "source": [
    "golosa = data.sum().reset_index()\n",
    "golosa = golosa.set_index('index')\n",
    "golosa.head()"
   ]
  },
  {
   "cell_type": "code",
   "execution_count": 5,
   "metadata": {
    "collapsed": false
   },
   "outputs": [
    {
     "data": {
      "image/png": "[encoded data removed]",
      "text/plain": [
       "<matplotlib.figure.Figure at 0x7f9788b3d550>"
      ]
     },
     "metadata": {},
     "output_type": "display_data"
    }
   ],
   "source": [
    "golosaplot = golosa.hist()\n",
    "# golosaplot.set_title(u\"Kolichestvo Golosov po uchastkam\")"
   ]
  },
  {
   "cell_type": "markdown",
   "metadata": {},
   "source": [
    "Распределение голосов по участкам, Медиана: 1254 голоса на участке, в среднем 469 голоса на участок"
   ]
  },
  {
   "cell_type": "code",
   "execution_count": 6,
   "metadata": {
    "collapsed": false
   },
   "outputs": [],
   "source": [
    "# data = data[data>50]\n",
    "# data.head()"
   ]
  },
  {
   "cell_type": "code",
   "execution_count": 6,
   "metadata": {
    "collapsed": false
   },
   "outputs": [
    {
     "data": {
      "text/html": [
       "<div>\n",
       "<table border=\"1\" class=\"dataframe\">\n",
       "  <thead>\n",
       "    <tr style=\"text-align: right;\">\n",
       "      <th></th>\n",
       "      <th>1</th>\n",
       "      <th>2</th>\n",
       "      <th>3</th>\n",
       "      <th>4</th>\n",
       "      <th>5</th>\n",
       "      <th>6</th>\n",
       "      <th>7</th>\n",
       "      <th>8</th>\n",
       "      <th>9</th>\n",
       "      <th>10</th>\n",
       "      <th>11</th>\n",
       "      <th>12</th>\n",
       "      <th>13</th>\n",
       "      <th>14</th>\n",
       "      <th>15</th>\n",
       "      <th>16</th>\n",
       "      <th>17</th>\n",
       "      <th>18</th>\n",
       "    </tr>\n",
       "  </thead>\n",
       "  <tbody>\n",
       "    <tr>\n",
       "      <th>0</th>\n",
       "      <td>48.723148</td>\n",
       "      <td>61.582886</td>\n",
       "      <td>39.301695</td>\n",
       "      <td>62.733771</td>\n",
       "      <td>57.303982</td>\n",
       "      <td>72.676165</td>\n",
       "      <td>41.774547</td>\n",
       "      <td>46.835618</td>\n",
       "      <td>49.793256</td>\n",
       "      <td>64.758614</td>\n",
       "      <td>50.838228</td>\n",
       "      <td>48.300806</td>\n",
       "      <td>51.292058</td>\n",
       "      <td>53.313310</td>\n",
       "      <td>52.384805</td>\n",
       "      <td>65.075868</td>\n",
       "      <td>66.605469</td>\n",
       "      <td>50.547054</td>\n",
       "    </tr>\n",
       "    <tr>\n",
       "      <th>1</th>\n",
       "      <td>17.494415</td>\n",
       "      <td>19.219424</td>\n",
       "      <td>14.742373</td>\n",
       "      <td>6.625543</td>\n",
       "      <td>17.250764</td>\n",
       "      <td>9.793151</td>\n",
       "      <td>9.943238</td>\n",
       "      <td>23.167142</td>\n",
       "      <td>19.718828</td>\n",
       "      <td>5.662572</td>\n",
       "      <td>19.223154</td>\n",
       "      <td>31.509400</td>\n",
       "      <td>16.974841</td>\n",
       "      <td>22.088735</td>\n",
       "      <td>17.831795</td>\n",
       "      <td>6.954895</td>\n",
       "      <td>6.105469</td>\n",
       "      <td>19.742828</td>\n",
       "    </tr>\n",
       "    <tr>\n",
       "      <th>2</th>\n",
       "      <td>6.657501</td>\n",
       "      <td>1.664234</td>\n",
       "      <td>4.477966</td>\n",
       "      <td>1.866902</td>\n",
       "      <td>5.433764</td>\n",
       "      <td>3.832289</td>\n",
       "      <td>5.038837</td>\n",
       "      <td>6.618526</td>\n",
       "      <td>9.179454</td>\n",
       "      <td>0.804051</td>\n",
       "      <td>7.217345</td>\n",
       "      <td>4.605192</td>\n",
       "      <td>4.137617</td>\n",
       "      <td>4.269475</td>\n",
       "      <td>5.093223</td>\n",
       "      <td>5.404282</td>\n",
       "      <td>4.140625</td>\n",
       "      <td>3.996691</td>\n",
       "    </tr>\n",
       "    <tr>\n",
       "      <th>3</th>\n",
       "      <td>22.601822</td>\n",
       "      <td>14.366442</td>\n",
       "      <td>16.664407</td>\n",
       "      <td>24.759294</td>\n",
       "      <td>15.303438</td>\n",
       "      <td>12.376620</td>\n",
       "      <td>36.033659</td>\n",
       "      <td>20.692669</td>\n",
       "      <td>16.245521</td>\n",
       "      <td>27.833852</td>\n",
       "      <td>17.804105</td>\n",
       "      <td>14.184423</td>\n",
       "      <td>19.331616</td>\n",
       "      <td>18.374330</td>\n",
       "      <td>19.379987</td>\n",
       "      <td>19.941800</td>\n",
       "      <td>20.453125</td>\n",
       "      <td>21.652818</td>\n",
       "    </tr>\n",
       "    <tr>\n",
       "      <th>4</th>\n",
       "      <td>4.523114</td>\n",
       "      <td>3.167013</td>\n",
       "      <td>24.813559</td>\n",
       "      <td>4.014491</td>\n",
       "      <td>4.708052</td>\n",
       "      <td>1.321775</td>\n",
       "      <td>7.209719</td>\n",
       "      <td>2.686045</td>\n",
       "      <td>5.062942</td>\n",
       "      <td>0.940911</td>\n",
       "      <td>4.917167</td>\n",
       "      <td>1.400179</td>\n",
       "      <td>8.263868</td>\n",
       "      <td>1.954150</td>\n",
       "      <td>5.310190</td>\n",
       "      <td>2.623155</td>\n",
       "      <td>2.695312</td>\n",
       "      <td>4.060608</td>\n",
       "    </tr>\n",
       "  </tbody>\n",
       "</table>\n",
       "</div>"
      ],
      "text/plain": [
       "           1          2          3          4          5          6  \\\n",
       "0  48.723148  61.582886  39.301695  62.733771  57.303982  72.676165   \n",
       "1  17.494415  19.219424  14.742373   6.625543  17.250764   9.793151   \n",
       "2   6.657501   1.664234   4.477966   1.866902   5.433764   3.832289   \n",
       "3  22.601822  14.366442  16.664407  24.759294  15.303438  12.376620   \n",
       "4   4.523114   3.167013  24.813559   4.014491   4.708052   1.321775   \n",
       "\n",
       "           7          8          9         10         11         12  \\\n",
       "0  41.774547  46.835618  49.793256  64.758614  50.838228  48.300806   \n",
       "1   9.943238  23.167142  19.718828   5.662572  19.223154  31.509400   \n",
       "2   5.038837   6.618526   9.179454   0.804051   7.217345   4.605192   \n",
       "3  36.033659  20.692669  16.245521  27.833852  17.804105  14.184423   \n",
       "4   7.209719   2.686045   5.062942   0.940911   4.917167   1.400179   \n",
       "\n",
       "          13         14         15         16         17         18  \n",
       "0  51.292058  53.313310  52.384805  65.075868  66.605469  50.547054  \n",
       "1  16.974841  22.088735  17.831795   6.954895   6.105469  19.742828  \n",
       "2   4.137617   4.269475   5.093223   5.404282   4.140625   3.996691  \n",
       "3  19.331616  18.374330  19.379987  19.941800  20.453125  21.652818  \n",
       "4   8.263868   1.954150   5.310190   2.623155   2.695312   4.060608  "
      ]
     },
     "execution_count": 6,
     "metadata": {},
     "output_type": "execute_result"
    }
   ],
   "source": [
    "data_percent = data.apply(lambda x: (x*100 / x.sum()))\n",
    "data_percent.head()"
   ]
  },
  {
   "cell_type": "code",
   "execution_count": 8,
   "metadata": {
    "collapsed": false
   },
   "outputs": [
    {
     "data": {
      "text/html": [
       "<div>\n",
       "<table border=\"1\" class=\"dataframe\">\n",
       "  <thead>\n",
       "    <tr style=\"text-align: right;\">\n",
       "      <th></th>\n",
       "      <th>EDRO</th>\n",
       "    </tr>\n",
       "  </thead>\n",
       "  <tbody>\n",
       "    <tr>\n",
       "      <th>count</th>\n",
       "      <td>18.000000</td>\n",
       "    </tr>\n",
       "    <tr>\n",
       "      <th>mean</th>\n",
       "      <td>54.657849</td>\n",
       "    </tr>\n",
       "    <tr>\n",
       "      <th>std</th>\n",
       "      <td>9.107886</td>\n",
       "    </tr>\n",
       "    <tr>\n",
       "      <th>min</th>\n",
       "      <td>39.301695</td>\n",
       "    </tr>\n",
       "    <tr>\n",
       "      <th>25%</th>\n",
       "      <td>48.990675</td>\n",
       "    </tr>\n",
       "    <tr>\n",
       "      <th>50%</th>\n",
       "      <td>51.838432</td>\n",
       "    </tr>\n",
       "    <tr>\n",
       "      <th>75%</th>\n",
       "      <td>62.446049</td>\n",
       "    </tr>\n",
       "    <tr>\n",
       "      <th>max</th>\n",
       "      <td>72.676165</td>\n",
       "    </tr>\n",
       "  </tbody>\n",
       "</table>\n",
       "</div>"
      ],
      "text/plain": [
       "            EDRO\n",
       "count  18.000000\n",
       "mean   54.657849\n",
       "std     9.107886\n",
       "min    39.301695\n",
       "25%    48.990675\n",
       "50%    51.838432\n",
       "75%    62.446049\n",
       "max    72.676165"
      ]
     },
     "execution_count": 8,
     "metadata": {},
     "output_type": "execute_result"
    }
   ],
   "source": [
    "edro = data_percent.transpose()[[0]]\n",
    "edro = edro.sort_values(by=[0], ascending=[False])\n",
    "edro = edro.rename(columns={0: 'EDRO'})\n",
    "edro.describe()"
   ]
  },
  {
   "cell_type": "markdown",
   "metadata": {},
   "source": [
    "### Участки с большими процентами за едро\n",
    "http://www.bashkortostan.vybory.izbirkom.ru/bashkortostan/ik/4024049178662"
   ]
  },
  {
   "cell_type": "code",
   "execution_count": 9,
   "metadata": {
    "collapsed": false
   },
   "outputs": [
    {
     "data": {
      "text/html": [
       "<div>\n",
       "<table border=\"1\" class=\"dataframe\">\n",
       "  <thead>\n",
       "    <tr style=\"text-align: right;\">\n",
       "      <th></th>\n",
       "      <th>EDRO</th>\n",
       "    </tr>\n",
       "  </thead>\n",
       "  <tbody>\n",
       "    <tr>\n",
       "      <th>6</th>\n",
       "      <td>72.676165</td>\n",
       "    </tr>\n",
       "    <tr>\n",
       "      <th>17</th>\n",
       "      <td>66.605469</td>\n",
       "    </tr>\n",
       "    <tr>\n",
       "      <th>16</th>\n",
       "      <td>65.075868</td>\n",
       "    </tr>\n",
       "    <tr>\n",
       "      <th>10</th>\n",
       "      <td>64.758614</td>\n",
       "    </tr>\n",
       "    <tr>\n",
       "      <th>4</th>\n",
       "      <td>62.733771</td>\n",
       "    </tr>\n",
       "  </tbody>\n",
       "</table>\n",
       "</div>"
      ],
      "text/plain": [
       "         EDRO\n",
       "6   72.676165\n",
       "17  66.605469\n",
       "16  65.075868\n",
       "10  64.758614\n",
       "4   62.733771"
      ]
     },
     "execution_count": 9,
     "metadata": {},
     "output_type": "execute_result"
    }
   ],
   "source": [
    "edro.head(5)"
   ]
  },
  {
   "cell_type": "code",
   "execution_count": 10,
   "metadata": {
    "collapsed": false
   },
   "outputs": [
    {
     "data": {
      "text/plain": [
       "<matplotlib.text.Text at 0x7f9784ef2b50>"
      ]
     },
     "execution_count": 10,
     "metadata": {},
     "output_type": "execute_result"
    },
    {
     "data": {
      "image/png": "[encoded data removed]",
      "text/plain": [
       "<matplotlib.figure.Figure at 0x7f97887ccfd0>"
      ]
     },
     "metadata": {},
     "output_type": "display_data"
    }
   ],
   "source": [
    "edro.hist()\n",
    "plt.title('Histogram for EDRO')"
   ]
  },
  {
   "cell_type": "markdown",
   "metadata": {},
   "source": [
    "Гистограма показывает что на большинстве участков близкое значение в 56%"
   ]
  },
  {
   "cell_type": "code",
   "execution_count": 11,
   "metadata": {
    "collapsed": false
   },
   "outputs": [
    {
     "data": {
      "text/plain": [
       "<matplotlib.axes._subplots.AxesSubplot at 0x7f9784eb6110>"
      ]
     },
     "execution_count": 11,
     "metadata": {},
     "output_type": "execute_result"
    },
    {
     "data": {
      "image/png": "[encoded data removed]",
      "text/plain": [
       "<matplotlib.figure.Figure at 0x7f9784dfea10>"
      ]
     },
     "metadata": {},
     "output_type": "display_data"
    }
   ],
   "source": [
    "edro.plot(title=u'Проценты за ЕДРО по участкам (56% в среднем)')\n"
   ]
  },
  {
   "cell_type": "markdown",
   "metadata": {},
   "source": [
    "Медиана в 56% почти на всех участках... причем настолько ровное распределение соотношения голосов за Единую России, вызывает удивление."
   ]
  },
  {
   "cell_type": "code",
   "execution_count": 12,
   "metadata": {
    "collapsed": false
   },
   "outputs": [
    {
     "data": {
      "text/html": [
       "<div>\n",
       "<table border=\"1\" class=\"dataframe\">\n",
       "  <thead>\n",
       "    <tr style=\"text-align: right;\">\n",
       "      <th></th>\n",
       "      <th>EDRO</th>\n",
       "      <th>golosa</th>\n",
       "    </tr>\n",
       "  </thead>\n",
       "  <tbody>\n",
       "    <tr>\n",
       "      <th>6</th>\n",
       "      <td>72.676165</td>\n",
       "      <td>23302</td>\n",
       "    </tr>\n",
       "    <tr>\n",
       "      <th>17</th>\n",
       "      <td>66.605469</td>\n",
       "      <td>25600</td>\n",
       "    </tr>\n",
       "    <tr>\n",
       "      <th>16</th>\n",
       "      <td>65.075868</td>\n",
       "      <td>24055</td>\n",
       "    </tr>\n",
       "    <tr>\n",
       "      <th>10</th>\n",
       "      <td>64.758614</td>\n",
       "      <td>29227</td>\n",
       "    </tr>\n",
       "    <tr>\n",
       "      <th>4</th>\n",
       "      <td>62.733771</td>\n",
       "      <td>30639</td>\n",
       "    </tr>\n",
       "  </tbody>\n",
       "</table>\n",
       "</div>"
      ],
      "text/plain": [
       "         EDRO  golosa\n",
       "6   72.676165   23302\n",
       "17  66.605469   25600\n",
       "16  65.075868   24055\n",
       "10  64.758614   29227\n",
       "4   62.733771   30639"
      ]
     },
     "execution_count": 12,
     "metadata": {},
     "output_type": "execute_result"
    }
   ],
   "source": [
    "edro['golosa']=golosa\n",
    "edro.head()"
   ]
  },
  {
   "cell_type": "code",
   "execution_count": 13,
   "metadata": {
    "collapsed": false
   },
   "outputs": [
    {
     "data": {
      "text/plain": [
       "<seaborn.axisgrid.PairGrid at 0x7f9784e75290>"
      ]
     },
     "execution_count": 13,
     "metadata": {},
     "output_type": "execute_result"
    },
    {
     "data": {
      "image/png": "[encoded data removed]",
      "text/plain": [
       "<matplotlib.figure.Figure at 0x7f9784e75750>"
      ]
     },
     "metadata": {},
     "output_type": "display_data"
    }
   ],
   "source": [
    "sns.pairplot(edro)"
   ]
  },
  {
   "cell_type": "code",
   "execution_count": 14,
   "metadata": {
    "collapsed": false
   },
   "outputs": [
    {
     "data": {
      "text/plain": [
       "<matplotlib.axes._subplots.AxesSubplot at 0x7f9784ac2110>"
      ]
     },
     "execution_count": 14,
     "metadata": {},
     "output_type": "execute_result"
    },
    {
     "data": {
      "image/png": "[encoded data removed]",
      "text/plain": [
       "<matplotlib.figure.Figure at 0x7f9784f37990>"
      ]
     },
     "metadata": {},
     "output_type": "display_data"
    }
   ],
   "source": [
    "edro.plot.scatter(x='golosa', y='EDRO', title=u'Зависимость явки и результатов ЕДРО')"
   ]
  },
  {
   "cell_type": "code",
   "execution_count": null,
   "metadata": {
    "collapsed": true
   },
   "outputs": [],
   "source": []
  }
 ],
 "metadata": {
  "kernelspec": {
   "display_name": "Python [Root]",
   "language": "python",
   "name": "Python [Root]"
  },
  "language_info": {
   "codemirror_mode": {
    "name": "ipython",
    "version": 2
   },
   "file_extension": ".py",
   "mimetype": "text/x-python",
   "name": "python",
   "nbconvert_exporter": "python",
   "pygments_lexer": "ipython2",
   "version": "2.7.12"
  }
 },
 "nbformat": 4,
 "nbformat_minor": 0
}
