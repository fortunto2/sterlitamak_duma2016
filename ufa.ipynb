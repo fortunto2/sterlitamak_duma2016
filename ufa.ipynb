{
 "cells": [
  {
   "cell_type": "code",
   "execution_count": 1,
   "metadata": {
    "collapsed": true
   },
   "outputs": [],
   "source": [
    "# -*- coding: utf-8 -*-\n",
    "from __future__ import unicode_literals\n",
    "\n",
    "import pandas as pd\n",
    "import numpy as np\n",
    "import matplotlib.pyplot as plt\n",
    "import scipy.stats as sts\n",
    "import seaborn as sns\n",
    "\n",
    "%matplotlib inline"
   ]
  },
  {
   "cell_type": "markdown",
   "metadata": {},
   "source": [
    "## Данные\n",
    "загружаем данные по стерлитамаку"
   ]
  },
  {
   "cell_type": "code",
   "execution_count": 2,
   "metadata": {
    "collapsed": false
   },
   "outputs": [],
   "source": [
    "data = pd.read_csv('ufa.csv', encoding='utf-8')\n",
    "data.rename(columns=lambda x: x[5:], inplace=True)"
   ]
  },
  {
   "cell_type": "code",
   "execution_count": 3,
   "metadata": {
    "collapsed": false
   },
   "outputs": [
    {
     "data": {
      "text/html": [
       "<div>\n",
       "<table border=\"1\" class=\"dataframe\">\n",
       "  <thead>\n",
       "    <tr style=\"text-align: right;\">\n",
       "      <th></th>\n",
       "      <th>1</th>\n",
       "      <th>2</th>\n",
       "      <th>3</th>\n",
       "      <th>4</th>\n",
       "      <th>5</th>\n",
       "      <th>6</th>\n",
       "      <th>7</th>\n",
       "      <th>8</th>\n",
       "      <th>9</th>\n",
       "      <th>10</th>\n",
       "      <th>11</th>\n",
       "      <th>12</th>\n",
       "      <th>13</th>\n",
       "      <th>14</th>\n",
       "      <th>15</th>\n",
       "      <th>16</th>\n",
       "      <th>17</th>\n",
       "      <th>18</th>\n",
       "    </tr>\n",
       "  </thead>\n",
       "  <tbody>\n",
       "    <tr>\n",
       "      <th>0</th>\n",
       "      <td>14176</td>\n",
       "      <td>19834</td>\n",
       "      <td>11594</td>\n",
       "      <td>19221</td>\n",
       "      <td>18951</td>\n",
       "      <td>16935</td>\n",
       "      <td>8390</td>\n",
       "      <td>10183</td>\n",
       "      <td>10838</td>\n",
       "      <td>18927</td>\n",
       "      <td>15405</td>\n",
       "      <td>13488</td>\n",
       "      <td>13537</td>\n",
       "      <td>14023</td>\n",
       "      <td>14245</td>\n",
       "      <td>15654</td>\n",
       "      <td>17051</td>\n",
       "      <td>13444</td>\n",
       "    </tr>\n",
       "    <tr>\n",
       "      <th>1</th>\n",
       "      <td>5090</td>\n",
       "      <td>6190</td>\n",
       "      <td>4349</td>\n",
       "      <td>2030</td>\n",
       "      <td>5705</td>\n",
       "      <td>2282</td>\n",
       "      <td>1997</td>\n",
       "      <td>5037</td>\n",
       "      <td>4292</td>\n",
       "      <td>1655</td>\n",
       "      <td>5825</td>\n",
       "      <td>8799</td>\n",
       "      <td>4480</td>\n",
       "      <td>5810</td>\n",
       "      <td>4849</td>\n",
       "      <td>1673</td>\n",
       "      <td>1563</td>\n",
       "      <td>5251</td>\n",
       "    </tr>\n",
       "    <tr>\n",
       "      <th>2</th>\n",
       "      <td>1937</td>\n",
       "      <td>536</td>\n",
       "      <td>1321</td>\n",
       "      <td>572</td>\n",
       "      <td>1797</td>\n",
       "      <td>893</td>\n",
       "      <td>1012</td>\n",
       "      <td>1439</td>\n",
       "      <td>1998</td>\n",
       "      <td>235</td>\n",
       "      <td>2187</td>\n",
       "      <td>1286</td>\n",
       "      <td>1092</td>\n",
       "      <td>1123</td>\n",
       "      <td>1385</td>\n",
       "      <td>1300</td>\n",
       "      <td>1060</td>\n",
       "      <td>1063</td>\n",
       "    </tr>\n",
       "    <tr>\n",
       "      <th>3</th>\n",
       "      <td>6576</td>\n",
       "      <td>4627</td>\n",
       "      <td>4916</td>\n",
       "      <td>7586</td>\n",
       "      <td>5061</td>\n",
       "      <td>2884</td>\n",
       "      <td>7237</td>\n",
       "      <td>4499</td>\n",
       "      <td>3536</td>\n",
       "      <td>8135</td>\n",
       "      <td>5395</td>\n",
       "      <td>3961</td>\n",
       "      <td>5102</td>\n",
       "      <td>4833</td>\n",
       "      <td>5270</td>\n",
       "      <td>4797</td>\n",
       "      <td>5236</td>\n",
       "      <td>5759</td>\n",
       "    </tr>\n",
       "    <tr>\n",
       "      <th>4</th>\n",
       "      <td>1316</td>\n",
       "      <td>1020</td>\n",
       "      <td>7320</td>\n",
       "      <td>1230</td>\n",
       "      <td>1557</td>\n",
       "      <td>308</td>\n",
       "      <td>1448</td>\n",
       "      <td>584</td>\n",
       "      <td>1102</td>\n",
       "      <td>275</td>\n",
       "      <td>1490</td>\n",
       "      <td>391</td>\n",
       "      <td>2181</td>\n",
       "      <td>514</td>\n",
       "      <td>1444</td>\n",
       "      <td>631</td>\n",
       "      <td>690</td>\n",
       "      <td>1080</td>\n",
       "    </tr>\n",
       "  </tbody>\n",
       "</table>\n",
       "</div>"
      ],
      "text/plain": [
       "       1      2      3      4      5      6     7      8      9     10     11  \\\n",
       "0  14176  19834  11594  19221  18951  16935  8390  10183  10838  18927  15405   \n",
       "1   5090   6190   4349   2030   5705   2282  1997   5037   4292   1655   5825   \n",
       "2   1937    536   1321    572   1797    893  1012   1439   1998    235   2187   \n",
       "3   6576   4627   4916   7586   5061   2884  7237   4499   3536   8135   5395   \n",
       "4   1316   1020   7320   1230   1557    308  1448    584   1102    275   1490   \n",
       "\n",
       "      12     13     14     15     16     17     18  \n",
       "0  13488  13537  14023  14245  15654  17051  13444  \n",
       "1   8799   4480   5810   4849   1673   1563   5251  \n",
       "2   1286   1092   1123   1385   1300   1060   1063  \n",
       "3   3961   5102   4833   5270   4797   5236   5759  \n",
       "4    391   2181    514   1444    631    690   1080  "
      ]
     },
     "execution_count": 3,
     "metadata": {},
     "output_type": "execute_result"
    }
   ],
   "source": [
    "data.head()"
   ]
  },
  {
   "cell_type": "code",
   "execution_count": 4,
   "metadata": {
    "collapsed": false
   },
   "outputs": [
    {
     "data": {
      "text/html": [
       "<div>\n",
       "<table border=\"1\" class=\"dataframe\">\n",
       "  <thead>\n",
       "    <tr style=\"text-align: right;\">\n",
       "      <th></th>\n",
       "      <th>0</th>\n",
       "    </tr>\n",
       "    <tr>\n",
       "      <th>index</th>\n",
       "      <th></th>\n",
       "    </tr>\n",
       "  </thead>\n",
       "  <tbody>\n",
       "    <tr>\n",
       "      <th>1</th>\n",
       "      <td>29095</td>\n",
       "    </tr>\n",
       "    <tr>\n",
       "      <th>2</th>\n",
       "      <td>32207</td>\n",
       "    </tr>\n",
       "    <tr>\n",
       "      <th>3</th>\n",
       "      <td>29500</td>\n",
       "    </tr>\n",
       "    <tr>\n",
       "      <th>4</th>\n",
       "      <td>30639</td>\n",
       "    </tr>\n",
       "    <tr>\n",
       "      <th>5</th>\n",
       "      <td>33071</td>\n",
       "    </tr>\n",
       "  </tbody>\n",
       "</table>\n",
       "</div>"
      ],
      "text/plain": [
       "           0\n",
       "index       \n",
       "1      29095\n",
       "2      32207\n",
       "3      29500\n",
       "4      30639\n",
       "5      33071"
      ]
     },
     "execution_count": 4,
     "metadata": {},
     "output_type": "execute_result"
    }
   ],
   "source": [
    "golosa = data.sum().reset_index()\n",
    "golosa = golosa.set_index('index')\n",
    "golosa.head()"
   ]
  },
  {
   "cell_type": "code",
   "execution_count": 5,
   "metadata": {
    "collapsed": false
   },
   "outputs": [
    {
     "data": {
      "image/png": "[encoded data removed]",
      "text/plain": [
       "<matplotlib.figure.Figure at 0x7f33bbed2890>"
      ]
     },
     "metadata": {},
     "output_type": "display_data"
    }
   ],
   "source": [
    "golosaplot = golosa.hist()\n",
    "# golosaplot.set_title(u\"Kolichestvo Golosov po uchastkam\")"
   ]
  },
  {
   "cell_type": "markdown",
   "metadata": {},
   "source": [
    "Распределение голосов по участкам, Медиана: 1254 голоса на участке, в среднем 469 голоса на участок"
   ]
  },
  {
   "cell_type": "code",
   "execution_count": 6,
   "metadata": {
    "collapsed": false
   },
   "outputs": [],
   "source": [
    "# data = data[data>50]\n",
    "# data.head()"
   ]
  },
  {
   "cell_type": "code",
   "execution_count": 7,
   "metadata": {
    "collapsed": false
   },
   "outputs": [
    {
     "data": {
      "text/html": [
       "<div>\n",
       "<table border=\"1\" class=\"dataframe\">\n",
       "  <thead>\n",
       "    <tr style=\"text-align: right;\">\n",
       "      <th></th>\n",
       "      <th>1</th>\n",
       "      <th>2</th>\n",
       "      <th>3</th>\n",
       "      <th>4</th>\n",
       "      <th>5</th>\n",
       "      <th>6</th>\n",
       "      <th>7</th>\n",
       "      <th>8</th>\n",
       "      <th>9</th>\n",
       "      <th>10</th>\n",
       "      <th>11</th>\n",
       "      <th>12</th>\n",
       "      <th>13</th>\n",
       "      <th>14</th>\n",
       "      <th>15</th>\n",
       "      <th>16</th>\n",
       "      <th>17</th>\n",
       "      <th>18</th>\n",
       "    </tr>\n",
       "  </thead>\n",
       "  <tbody>\n",
       "    <tr>\n",
       "      <th>0</th>\n",
       "      <td>48.723148</td>\n",
       "      <td>61.582886</td>\n",
       "      <td>39.301695</td>\n",
       "      <td>62.733771</td>\n",
       "      <td>57.303982</td>\n",
       "      <td>72.676165</td>\n",
       "      <td>41.774547</td>\n",
       "      <td>46.835618</td>\n",
       "      <td>49.793256</td>\n",
       "      <td>64.758614</td>\n",
       "      <td>50.838228</td>\n",
       "      <td>48.300806</td>\n",
       "      <td>51.292058</td>\n",
       "      <td>53.313310</td>\n",
       "      <td>52.384805</td>\n",
       "      <td>65.075868</td>\n",
       "      <td>66.605469</td>\n",
       "      <td>50.547054</td>\n",
       "    </tr>\n",
       "    <tr>\n",
       "      <th>1</th>\n",
       "      <td>17.494415</td>\n",
       "      <td>19.219424</td>\n",
       "      <td>14.742373</td>\n",
       "      <td>6.625543</td>\n",
       "      <td>17.250764</td>\n",
       "      <td>9.793151</td>\n",
       "      <td>9.943238</td>\n",
       "      <td>23.167142</td>\n",
       "      <td>19.718828</td>\n",
       "      <td>5.662572</td>\n",
       "      <td>19.223154</td>\n",
       "      <td>31.509400</td>\n",
       "      <td>16.974841</td>\n",
       "      <td>22.088735</td>\n",
       "      <td>17.831795</td>\n",
       "      <td>6.954895</td>\n",
       "      <td>6.105469</td>\n",
       "      <td>19.742828</td>\n",
       "    </tr>\n",
       "    <tr>\n",
       "      <th>2</th>\n",
       "      <td>6.657501</td>\n",
       "      <td>1.664234</td>\n",
       "      <td>4.477966</td>\n",
       "      <td>1.866902</td>\n",
       "      <td>5.433764</td>\n",
       "      <td>3.832289</td>\n",
       "      <td>5.038837</td>\n",
       "      <td>6.618526</td>\n",
       "      <td>9.179454</td>\n",
       "      <td>0.804051</td>\n",
       "      <td>7.217345</td>\n",
       "      <td>4.605192</td>\n",
       "      <td>4.137617</td>\n",
       "      <td>4.269475</td>\n",
       "      <td>5.093223</td>\n",
       "      <td>5.404282</td>\n",
       "      <td>4.140625</td>\n",
       "      <td>3.996691</td>\n",
       "    </tr>\n",
       "    <tr>\n",
       "      <th>3</th>\n",
       "      <td>22.601822</td>\n",
       "      <td>14.366442</td>\n",
       "      <td>16.664407</td>\n",
       "      <td>24.759294</td>\n",
       "      <td>15.303438</td>\n",
       "      <td>12.376620</td>\n",
       "      <td>36.033659</td>\n",
       "      <td>20.692669</td>\n",
       "      <td>16.245521</td>\n",
       "      <td>27.833852</td>\n",
       "      <td>17.804105</td>\n",
       "      <td>14.184423</td>\n",
       "      <td>19.331616</td>\n",
       "      <td>18.374330</td>\n",
       "      <td>19.379987</td>\n",
       "      <td>19.941800</td>\n",
       "      <td>20.453125</td>\n",
       "      <td>21.652818</td>\n",
       "    </tr>\n",
       "    <tr>\n",
       "      <th>4</th>\n",
       "      <td>4.523114</td>\n",
       "      <td>3.167013</td>\n",
       "      <td>24.813559</td>\n",
       "      <td>4.014491</td>\n",
       "      <td>4.708052</td>\n",
       "      <td>1.321775</td>\n",
       "      <td>7.209719</td>\n",
       "      <td>2.686045</td>\n",
       "      <td>5.062942</td>\n",
       "      <td>0.940911</td>\n",
       "      <td>4.917167</td>\n",
       "      <td>1.400179</td>\n",
       "      <td>8.263868</td>\n",
       "      <td>1.954150</td>\n",
       "      <td>5.310190</td>\n",
       "      <td>2.623155</td>\n",
       "      <td>2.695312</td>\n",
       "      <td>4.060608</td>\n",
       "    </tr>\n",
       "  </tbody>\n",
       "</table>\n",
       "</div>"
      ],
      "text/plain": [
       "           1          2          3          4          5          6  \\\n",
       "0  48.723148  61.582886  39.301695  62.733771  57.303982  72.676165   \n",
       "1  17.494415  19.219424  14.742373   6.625543  17.250764   9.793151   \n",
       "2   6.657501   1.664234   4.477966   1.866902   5.433764   3.832289   \n",
       "3  22.601822  14.366442  16.664407  24.759294  15.303438  12.376620   \n",
       "4   4.523114   3.167013  24.813559   4.014491   4.708052   1.321775   \n",
       "\n",
       "           7          8          9         10         11         12  \\\n",
       "0  41.774547  46.835618  49.793256  64.758614  50.838228  48.300806   \n",
       "1   9.943238  23.167142  19.718828   5.662572  19.223154  31.509400   \n",
       "2   5.038837   6.618526   9.179454   0.804051   7.217345   4.605192   \n",
       "3  36.033659  20.692669  16.245521  27.833852  17.804105  14.184423   \n",
       "4   7.209719   2.686045   5.062942   0.940911   4.917167   1.400179   \n",
       "\n",
       "          13         14         15         16         17         18  \n",
       "0  51.292058  53.313310  52.384805  65.075868  66.605469  50.547054  \n",
       "1  16.974841  22.088735  17.831795   6.954895   6.105469  19.742828  \n",
       "2   4.137617   4.269475   5.093223   5.404282   4.140625   3.996691  \n",
       "3  19.331616  18.374330  19.379987  19.941800  20.453125  21.652818  \n",
       "4   8.263868   1.954150   5.310190   2.623155   2.695312   4.060608  "
      ]
     },
     "execution_count": 7,
     "metadata": {},
     "output_type": "execute_result"
    }
   ],
   "source": [
    "data_percent = data.apply(lambda x: (x*100 / x.sum()))\n",
    "data_percent.head()"
   ]
  },
  {
   "cell_type": "code",
   "execution_count": 8,
   "metadata": {
    "collapsed": false
   },
   "outputs": [
    {
     "data": {
      "text/html": [
       "<div>\n",
       "<table border=\"1\" class=\"dataframe\">\n",
       "  <thead>\n",
       "    <tr style=\"text-align: right;\">\n",
       "      <th></th>\n",
       "      <th>EDRO</th>\n",
       "    </tr>\n",
       "  </thead>\n",
       "  <tbody>\n",
       "    <tr>\n",
       "      <th>count</th>\n",
       "      <td>18.000000</td>\n",
       "    </tr>\n",
       "    <tr>\n",
       "      <th>mean</th>\n",
       "      <td>54.657849</td>\n",
       "    </tr>\n",
       "    <tr>\n",
       "      <th>std</th>\n",
       "      <td>9.107886</td>\n",
       "    </tr>\n",
       "    <tr>\n",
       "      <th>min</th>\n",
       "      <td>39.301695</td>\n",
       "    </tr>\n",
       "    <tr>\n",
       "      <th>25%</th>\n",
       "      <td>48.990675</td>\n",
       "    </tr>\n",
       "    <tr>\n",
       "      <th>50%</th>\n",
       "      <td>51.838432</td>\n",
       "    </tr>\n",
       "    <tr>\n",
       "      <th>75%</th>\n",
       "      <td>62.446049</td>\n",
       "    </tr>\n",
       "    <tr>\n",
       "      <th>max</th>\n",
       "      <td>72.676165</td>\n",
       "    </tr>\n",
       "  </tbody>\n",
       "</table>\n",
       "</div>"
      ],
      "text/plain": [
       "            EDRO\n",
       "count  18.000000\n",
       "mean   54.657849\n",
       "std     9.107886\n",
       "min    39.301695\n",
       "25%    48.990675\n",
       "50%    51.838432\n",
       "75%    62.446049\n",
       "max    72.676165"
      ]
     },
     "execution_count": 8,
     "metadata": {},
     "output_type": "execute_result"
    }
   ],
   "source": [
    "edro = data_percent.transpose()[[0]]\n",
    "edro = edro.sort_values(by=[0], ascending=[True])\n",
    "edro = edro.rename(columns={0: 'EDRO'})\n",
    "edro.describe()"
   ]
  },
  {
   "cell_type": "markdown",
   "metadata": {},
   "source": [
    "### Участки с большими процентами за едро\n",
    "http://www.bashkortostan.vybory.izbirkom.ru/bashkortostan/ik/4024049178662"
   ]
  },
  {
   "cell_type": "code",
   "execution_count": 9,
   "metadata": {
    "collapsed": false
   },
   "outputs": [
    {
     "data": {
      "text/html": [
       "<div>\n",
       "<table border=\"1\" class=\"dataframe\">\n",
       "  <thead>\n",
       "    <tr style=\"text-align: right;\">\n",
       "      <th></th>\n",
       "      <th>EDRO</th>\n",
       "    </tr>\n",
       "  </thead>\n",
       "  <tbody>\n",
       "    <tr>\n",
       "      <th>3</th>\n",
       "      <td>39.301695</td>\n",
       "    </tr>\n",
       "    <tr>\n",
       "      <th>7</th>\n",
       "      <td>41.774547</td>\n",
       "    </tr>\n",
       "    <tr>\n",
       "      <th>8</th>\n",
       "      <td>46.835618</td>\n",
       "    </tr>\n",
       "    <tr>\n",
       "      <th>12</th>\n",
       "      <td>48.300806</td>\n",
       "    </tr>\n",
       "    <tr>\n",
       "      <th>1</th>\n",
       "      <td>48.723148</td>\n",
       "    </tr>\n",
       "  </tbody>\n",
       "</table>\n",
       "</div>"
      ],
      "text/plain": [
       "         EDRO\n",
       "3   39.301695\n",
       "7   41.774547\n",
       "8   46.835618\n",
       "12  48.300806\n",
       "1   48.723148"
      ]
     },
     "execution_count": 9,
     "metadata": {},
     "output_type": "execute_result"
    }
   ],
   "source": [
    "edro.head(5)"
   ]
  },
  {
   "cell_type": "code",
   "execution_count": 10,
   "metadata": {
    "collapsed": false
   },
   "outputs": [
    {
     "data": {
      "text/plain": [
       "<matplotlib.text.Text at 0x7f33b84cae50>"
      ]
     },
     "execution_count": 10,
     "metadata": {},
     "output_type": "execute_result"
    },
    {
     "data": {
      "image/png": "[encoded data removed]",
      "text/plain": [
       "<matplotlib.figure.Figure at 0x7f33b8568890>"
      ]
     },
     "metadata": {},
     "output_type": "display_data"
    }
   ],
   "source": [
    "edro.hist()\n",
    "plt.title('Histogram for EDRO')"
   ]
  },
  {
   "cell_type": "markdown",
   "metadata": {},
   "source": [
    "Гистограма показывает что на большинстве участков близкое значение в 56%"
   ]
  },
  {
   "cell_type": "code",
   "execution_count": 11,
   "metadata": {
    "collapsed": false
   },
   "outputs": [
    {
     "data": {
      "text/plain": [
       "<matplotlib.axes._subplots.AxesSubplot at 0x7f33b8568b90>"
      ]
     },
     "execution_count": 11,
     "metadata": {},
     "output_type": "execute_result"
    },
    {
     "data": {
      "image/png": "[encoded data removed]",
      "text/plain": [
       "<matplotlib.figure.Figure at 0x7f33bbda9810>"
      ]
     },
     "metadata": {},
     "output_type": "display_data"
    }
   ],
   "source": [
    "edro.plot(title=u'Проценты за ЕДРО по участкам (56% в среднем)')"
   ]
  },
  {
   "cell_type": "markdown",
   "metadata": {},
   "source": [
    "Медиана в 56% почти на всех участках... причем настолько ровное распределение соотношения голосов за Единую России, вызывает удивление."
   ]
  },
  {
   "cell_type": "code",
   "execution_count": 12,
   "metadata": {
    "collapsed": false
   },
   "outputs": [
    {
     "data": {
      "text/html": [
       "<div>\n",
       "<table border=\"1\" class=\"dataframe\">\n",
       "  <thead>\n",
       "    <tr style=\"text-align: right;\">\n",
       "      <th></th>\n",
       "      <th>EDRO</th>\n",
       "      <th>golosa</th>\n",
       "    </tr>\n",
       "  </thead>\n",
       "  <tbody>\n",
       "    <tr>\n",
       "      <th>3</th>\n",
       "      <td>39.301695</td>\n",
       "      <td>29500</td>\n",
       "    </tr>\n",
       "    <tr>\n",
       "      <th>7</th>\n",
       "      <td>41.774547</td>\n",
       "      <td>20084</td>\n",
       "    </tr>\n",
       "    <tr>\n",
       "      <th>8</th>\n",
       "      <td>46.835618</td>\n",
       "      <td>21742</td>\n",
       "    </tr>\n",
       "    <tr>\n",
       "      <th>12</th>\n",
       "      <td>48.300806</td>\n",
       "      <td>27925</td>\n",
       "    </tr>\n",
       "    <tr>\n",
       "      <th>1</th>\n",
       "      <td>48.723148</td>\n",
       "      <td>29095</td>\n",
       "    </tr>\n",
       "  </tbody>\n",
       "</table>\n",
       "</div>"
      ],
      "text/plain": [
       "         EDRO  golosa\n",
       "3   39.301695   29500\n",
       "7   41.774547   20084\n",
       "8   46.835618   21742\n",
       "12  48.300806   27925\n",
       "1   48.723148   29095"
      ]
     },
     "execution_count": 12,
     "metadata": {},
     "output_type": "execute_result"
    }
   ],
   "source": [
    "edro['golosa']=golosa\n",
    "edro.head()"
   ]
  },
  {
   "cell_type": "code",
   "execution_count": 13,
   "metadata": {
    "collapsed": false
   },
   "outputs": [
    {
     "data": {
      "text/plain": [
       "<seaborn.axisgrid.PairGrid at 0x7f33b8342cd0>"
      ]
     },
     "execution_count": 13,
     "metadata": {},
     "output_type": "execute_result"
    },
    {
     "data": {
      "image/png": "[encoded data removed]",
      "text/plain": [
       "<matplotlib.figure.Figure at 0x7f33b8342510>"
      ]
     },
     "metadata": {},
     "output_type": "display_data"
    }
   ],
   "source": [
    "sns.pairplot(edro)"
   ]
  },
  {
   "cell_type": "code",
   "execution_count": 14,
   "metadata": {
    "collapsed": false
   },
   "outputs": [
    {
     "data": {
      "text/plain": [
       "<matplotlib.axes._subplots.AxesSubplot at 0x7f33b8211350>"
      ]
     },
     "execution_count": 14,
     "metadata": {},
     "output_type": "execute_result"
    },
    {
     "data": {
      "image/png": "[encoded data removed]",
      "text/plain": [
       "<matplotlib.figure.Figure at 0x7f33b834c2d0>"
      ]
     },
     "metadata": {},
     "output_type": "display_data"
    }
   ],
   "source": [
    "edro.plot.scatter(x='golosa', y='EDRO', title=u'Зависимость явки и результатов ЕДРО')"
   ]
  },
  {
   "cell_type": "code",
   "execution_count": 15,
   "metadata": {
    "collapsed": true
   },
   "outputs": [],
   "source": [
    "from statsmodels.graphics.gofplots import qqplot\n"
   ]
  },
  {
   "cell_type": "code",
   "execution_count": 28,
   "metadata": {
    "collapsed": false
   },
   "outputs": [
    {
     "data": {
      "image/png": "[encoded data removed]",
      "text/plain": [
       "<matplotlib.figure.Figure at 0x7f33b804fad0>"
      ]
     },
     "metadata": {},
     "output_type": "display_data"
    }
   ],
   "source": [
    "ax = qqplot(edro[['EDRO']],dist=sts.norm, line='45', fit=True);"
   ]
  },
  {
   "cell_type": "code",
   "execution_count": 29,
   "metadata": {
    "collapsed": false
   },
   "outputs": [
    {
     "data": {
      "image/png": "[encoded data removed]",
      "text/plain": [
       "<matplotlib.figure.Figure at 0x7f33b77642d0>"
      ]
     },
     "metadata": {},
     "output_type": "display_data"
    }
   ],
   "source": [
    "ax = qqplot(edro[['EDRO']],dist=sts.norm, line='45');"
   ]
  },
  {
   "cell_type": "code",
   "execution_count": 27,
   "metadata": {
    "collapsed": false
   },
   "outputs": [
    {
     "data": {
      "image/png": "[encoded data removed]",
      "text/plain": [
       "<matplotlib.figure.Figure at 0x7f33b7bfacd0>"
      ]
     },
     "metadata": {},
     "output_type": "display_data"
    }
   ],
   "source": [
    "qqplot(data_percent.transpose()[[2]],dist=sts.norm, line='45');"
   ]
  },
  {
   "cell_type": "code",
   "execution_count": null,
   "metadata": {
    "collapsed": true
   },
   "outputs": [],
   "source": []
  }
 ],
 "metadata": {
  "kernelspec": {
   "display_name": "Python [Root]",
   "language": "python",
   "name": "Python [Root]"
  },
  "language_info": {
   "codemirror_mode": {
    "name": "ipython",
    "version": 2
   },
   "file_extension": ".py",
   "mimetype": "text/x-python",
   "name": "python",
   "nbconvert_exporter": "python",
   "pygments_lexer": "ipython2",
   "version": "2.7.12"
  }
 },
 "nbformat": 4,
 "nbformat_minor": 0
}
